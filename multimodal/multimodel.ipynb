{
 "cells": [
  {
   "cell_type": "code",
   "execution_count": 1,
   "metadata": {},
   "outputs": [
    {
     "name": "stderr",
     "output_type": "stream",
     "text": [
      "2023-03-21 19:21:17.234717: I tensorflow/core/platform/cpu_feature_guard.cc:193] This TensorFlow binary is optimized with oneAPI Deep Neural Network Library (oneDNN) to use the following CPU instructions in performance-critical operations:  AVX2 FMA\n",
      "To enable them in other operations, rebuild TensorFlow with the appropriate compiler flags.\n",
      "2023-03-21 19:21:18.091558: W tensorflow/compiler/xla/stream_executor/platform/default/dso_loader.cc:64] Could not load dynamic library 'libcudart.so.11.0'; dlerror: libcudart.so.11.0: cannot open shared object file: No such file or directory; LD_LIBRARY_PATH: /home/hrithikpaul/.local/lib/python3.8/site-packages/cv2/../../lib64:\n",
      "2023-03-21 19:21:18.091601: I tensorflow/compiler/xla/stream_executor/cuda/cudart_stub.cc:29] Ignore above cudart dlerror if you do not have a GPU set up on your machine.\n",
      "2023-03-21 19:21:21.131972: W tensorflow/compiler/xla/stream_executor/platform/default/dso_loader.cc:64] Could not load dynamic library 'libnvinfer.so.7'; dlerror: libnvinfer.so.7: cannot open shared object file: No such file or directory; LD_LIBRARY_PATH: /home/hrithikpaul/.local/lib/python3.8/site-packages/cv2/../../lib64:\n",
      "2023-03-21 19:21:21.132262: W tensorflow/compiler/xla/stream_executor/platform/default/dso_loader.cc:64] Could not load dynamic library 'libnvinfer_plugin.so.7'; dlerror: libnvinfer_plugin.so.7: cannot open shared object file: No such file or directory; LD_LIBRARY_PATH: /home/hrithikpaul/.local/lib/python3.8/site-packages/cv2/../../lib64:\n",
      "2023-03-21 19:21:21.132289: W tensorflow/compiler/tf2tensorrt/utils/py_utils.cc:38] TF-TRT Warning: Cannot dlopen some TensorRT libraries. If you would like to use Nvidia GPU with TensorRT, please make sure the missing libraries mentioned above are installed properly.\n"
     ]
    }
   ],
   "source": [
    "from glob import glob\n",
    "import skimage.io as sk\n",
    "import cv2\n",
    "import pickle\n",
    "from skimage.color import rgb2gray\n",
    "from skimage.transform import resize\n",
    "import matplotlib.pyplot as plt\n",
    "import pandas as pd\n",
    "import numpy as np\n",
    "from keras.models import Sequential\n",
    "from keras.layers import Dense,Dropout,Input,SpatialDropout1D,GaussianDropout,BatchNormalization,Flatten,Add,LayerNormalization,UnitNormalization,AlphaDropout\n",
    "from keras.models import Model\n",
    "from keras.applications import DenseNet121\n",
    "from keras.utils import to_categorical\n",
    "from keras.models import Model\n",
    "from sklearn.preprocessing import LabelEncoder,MinMaxScaler,StandardScaler\n",
    "from keras.backend import clear_session\n",
    "from sklearn.model_selection import train_test_split\n",
    "from sklearn.ensemble import RandomForestClassifier\n",
    "from keras.optimizers import Adam,Adadelta,Adamax,RMSprop,adafactor,SGD\n",
    "from keras.regularizers import l2"
   ]
  },
  {
   "cell_type": "code",
   "execution_count": 4,
   "metadata": {},
   "outputs": [
    {
     "name": "stdout",
     "output_type": "stream",
     "text": [
      "Index(['Unnamed: 0', '0', '1', '2', '3', '4', '5', '6', '7', '8',\n",
      "       ...\n",
      "       '91', '92', '93', '94', '95', '96', '97', '98', '99', 'class'],\n",
      "      dtype='object', length=102)\n",
      "(834, 100)\n"
     ]
    }
   ],
   "source": [
    "data=pd.read_csv(\"data1.csv\")\n",
    "class_val=data[\"class\"]\n",
    "col=data.columns\n",
    "print(col)\n",
    "features_val=data[col[0:100]]\n",
    "print(features_val.shape)"
   ]
  },
  {
   "cell_type": "code",
   "execution_count": 4,
   "metadata": {},
   "outputs": [],
   "source": [
    "features_val=np.array(features_val).reshape(834,100)"
   ]
  },
  {
   "cell_type": "code",
   "execution_count": 5,
   "metadata": {},
   "outputs": [],
   "source": [
    "fx=MinMaxScaler()\n",
    "X=fx.fit_transform(features_val)"
   ]
  },
  {
   "cell_type": "code",
   "execution_count": 6,
   "metadata": {},
   "outputs": [],
   "source": [
    "sx=StandardScaler()\n",
    "X=sx.fit_transform(features_val)"
   ]
  },
  {
   "cell_type": "code",
   "execution_count": 7,
   "metadata": {},
   "outputs": [
    {
     "name": "stdout",
     "output_type": "stream",
     "text": [
      "[[0. 0. 1. 0.]\n",
      " [0. 0. 1. 0.]\n",
      " [0. 0. 1. 0.]\n",
      " ...\n",
      " [1. 0. 0. 0.]\n",
      " [1. 0. 0. 0.]\n",
      " [1. 0. 0. 0.]]\n"
     ]
    }
   ],
   "source": [
    "\n",
    "lb=LabelEncoder()\n",
    "x11=to_categorical(lb.fit_transform(class_val))\n",
    "print(x11)\n"
   ]
  },
  {
   "cell_type": "code",
   "execution_count": 8,
   "metadata": {},
   "outputs": [
    {
     "name": "stdout",
     "output_type": "stream",
     "text": [
      "(834, 4)\n"
     ]
    }
   ],
   "source": [
    "X=np.array(X)\n",
    "x11=np.array(x11)\n",
    "np.random.seed(1000)\n",
    "print(x11.shape)"
   ]
  },
  {
   "cell_type": "code",
   "execution_count": 9,
   "metadata": {},
   "outputs": [
    {
     "name": "stdout",
     "output_type": "stream",
     "text": [
      "(667, 100)\n"
     ]
    }
   ],
   "source": [
    "#features=np.array(features).reshape(145,100,1)\n",
    "x_train,x_test,y_train,y_test=train_test_split(X,x11,test_size=0.2,random_state=42)\n",
    "print(x_train.shape)"
   ]
  },
  {
   "cell_type": "code",
   "execution_count": 10,
   "metadata": {},
   "outputs": [
    {
     "name": "stdout",
     "output_type": "stream",
     "text": [
      "Training Data\n",
      "880\n",
      "(880, 60, 100, 1)\n",
      "(834, 60, 100, 1) (834, 4)\n"
     ]
    }
   ],
   "source": [
    "from __future__ import print_function\n",
    "import os\n",
    "#import tensorflow as tf\n",
    "from keras.models import Sequential\n",
    "from keras.layers import Dense, Dropout, Activation, Flatten, Conv2D, MaxPooling2D\n",
    "from keras.utils import to_categorical\n",
    "import pandas as pd\n",
    "\n",
    "import numpy as np\n",
    "import cv2\n",
    "import random\n",
    "\n",
    "\n",
    "# train with the train folder images\n",
    "DATADIR = \"./train/\"\n",
    "CATEGORIES = [\"Hitesh\", \"Labhesh\", \"Tarun\", \"Varkha\"] #subjects/classes to be recognized\n",
    "\"\"\"\n",
    "for category in CATEGORIES:\n",
    "    path = os.path.join(DATADIR, category)\n",
    "    \n",
    "    for img in os.listdir(path):\n",
    "        img_array = cv2.imread(os.path.join(path, img),cv2.IMREAD_GRAYSCALE)   # convert in gray scale for faster computation\n",
    "        break\n",
    "    break\n",
    "\"\"\"\n",
    "path_file=pd.read_csv(\"names.csv\")\n",
    "#print(path_file['0'].values)\n",
    "for i in path_file['0'].values:\n",
    "    #print(i)\n",
    "    img_array=cv2.imread(i,cv2.IMREAD_GRAYSCALE)\n",
    "\n",
    "\n",
    "IMG_WIDTH = 60      # small size images (not more than 200 * 200)\n",
    "IMG_HEIGHT = 100\n",
    "new_array = cv2.resize(img_array, (IMG_WIDTH, IMG_HEIGHT))\n",
    "\n",
    "training_data = []\n",
    "\n",
    "def create_training_data():\n",
    "    \"\"\"\n",
    "    for category in CATEGORIES:\n",
    "        path = os.path.join(DATADIR, category)\n",
    "        class_num = CATEGORIES.index(category)  # assign distinct index to all classes\n",
    "    \"\"\"\n",
    "\n",
    "    for img in path_file['0'].values:\n",
    "        try:\n",
    "            if \"Hitesh\" in img:\n",
    "                class_num=0\n",
    "            elif \"Labhesh\" in img:\n",
    "                class_num=1\n",
    "            elif \"Tarun\" in img:\n",
    "                class_num=2\n",
    "            else:\n",
    "                class_num=3\n",
    "            img_array = cv2.imread(img,cv2.IMREAD_GRAYSCALE) # convert in gray scale for faster computation\n",
    "            new_array = cv2.resize(img_array, (IMG_WIDTH, IMG_HEIGHT))  # make all images of standard/same size\n",
    "            training_data.append([new_array, class_num])    # assign distinct index to all classes\n",
    "        except Exception as e:\n",
    "            pass\n",
    "\n",
    "print(\"Training Data\")\n",
    "create_training_data()\n",
    "print(len(training_data))\n",
    "\n",
    "random.shuffle(training_data)   # shuffle for better training and learning of the machine\n",
    "\n",
    "a = []      #feature set\n",
    "b = []      #labels\n",
    "\n",
    "for features, labels in training_data:\n",
    "    a.append(features)\n",
    "    b.append(labels)\n",
    "\n",
    "a = np.array(a).reshape(-1, IMG_WIDTH, IMG_HEIGHT, 1)\n",
    "print(a.shape)\n",
    "np.random.seed(1000)\n",
    "\n",
    "X_train = a[:834]\n",
    "Y_train = b[:834]\n",
    "\n",
    "X_train = X_train/255.0\n",
    "Y_train=to_categorical(Y_train)\n",
    "print(X_train.shape,Y_train.shape)\n",
    "\n",
    "# increase the epochs or decrease the batch size according to classes\n",
    "\n"
   ]
  },
  {
   "cell_type": "code",
   "execution_count": 11,
   "metadata": {},
   "outputs": [
    {
     "name": "stdout",
     "output_type": "stream",
     "text": [
      "(834, 6000) (834, 4)\n"
     ]
    }
   ],
   "source": [
    "X_train=X_train.reshape(834,60*100*1)\n",
    "print(X_train.shape,Y_train.shape)"
   ]
  },
  {
   "cell_type": "code",
   "execution_count": 12,
   "metadata": {},
   "outputs": [],
   "source": [
    "from sklearn.model_selection import train_test_split\n",
    "x1,x2,y1,y2=train_test_split(X_train,Y_train,test_size=0.2,random_state=42)"
   ]
  },
  {
   "cell_type": "code",
   "execution_count": 13,
   "metadata": {},
   "outputs": [
    {
     "data": {
      "text/plain": [
       "'\\n#model.add(Dense(32,activation=\"selu\"))\\nmodel.add(Dense(64,activation=\"relu\"))\\nmodel.add(GaussianDropout(0.1))\\n\\nmodel.add(Dense(4,activation=\"softmax\"))\\n\\nadam=Adam(learning_rate=0.001)\\nmodel.compile(optimizer=adam,loss=\"binary_crossentropy\",metrics=[\"accuracy\"])\\nmodel.summary()\\n'"
      ]
     },
     "execution_count": 13,
     "metadata": {},
     "output_type": "execute_result"
    }
   ],
   "source": [
    "clear_session()\n",
    "#model=Sequential()\n",
    "#model.add(Input(shape=(100)))\n",
    "\"\"\"\n",
    "model.add(Dense(256,activation=\"relu\",kernel_initializer=\"he_uniform\"))\n",
    "model.add(Dense(256,activation=\"relu\",kernel_initializer=\"he_uniform\"))\n",
    "model.add(Dense(156,activation=\"relu\",kernel_initializer=\"he_uniform\"))\n",
    "model.add(Dense(256,activation=\"relu\",kernel_initializer=\"he_uniform\"))\n",
    "model.add(BatchNormalization())\n",
    "model.add(Dense(256,activation=\"relu\",kernel_initializer=\"he_uniform\"))\n",
    "model.add(Dense(512,activation=\"relu\",kernel_initializer=\"he_uniform\"))\n",
    "model.add(Dense(128,activation=\"relu\",kernel_initializer=\"he_uniform\"))\n",
    "model.add(BatchNormalization())\n",
    "model.add(Dense(2056,activation=\"relu\",kernel_initializer=\"he_uniform\"))\n",
    "model.add(Dense(1024,activation=\"relu\",kernel_initializer=\"he_uniform\"))\n",
    "model.add(Dense(256,activation=\"relu\",kernel_initializer=\"he_uniform\"))\n",
    "\"\"\"\n",
    "#model.add(Flatten(input_shape=(100,)))\n",
    "model=Input(shape=(100,))\n",
    "#model1=(Dense(64,activation=\"relu\",input_dim=100))(model)\n",
    "#model.add(AlphaDropout(0.1))\n",
    "model=(Flatten())(model)\n",
    "\"\"\"\n",
    "#model.add(Dense(32,activation=\"selu\"))\n",
    "model.add(Dense(64,activation=\"relu\"))\n",
    "model.add(GaussianDropout(0.1))\n",
    "\n",
    "model.add(Dense(4,activation=\"softmax\"))\n",
    "\n",
    "adam=Adam(learning_rate=0.001)\n",
    "model.compile(optimizer=adam,loss=\"binary_crossentropy\",metrics=[\"accuracy\"])\n",
    "model.summary()\n",
    "\"\"\""
   ]
  },
  {
   "cell_type": "code",
   "execution_count": 14,
   "metadata": {},
   "outputs": [],
   "source": [
    "clear_session()\n",
    "#model1 = Sequential()\n",
    "IMG_WIDTH = 60      # small size images (not more than 200 * 200)\n",
    "IMG_HEIGHT = 100\n",
    "model11=Input(shape=(IMG_WIDTH, IMG_HEIGHT, 1))\n",
    "#model12=(Conv2D(32, kernel_size=4, strides=1,activation='relu'))(model11)\n",
    "model11=Flatten()(model11)"
   ]
  },
  {
   "cell_type": "code",
   "execution_count": 15,
   "metadata": {},
   "outputs": [],
   "source": [
    "from keras.layers import concatenate\n",
    "model2=concatenate([model,model11])"
   ]
  },
  {
   "cell_type": "code",
   "execution_count": 17,
   "metadata": {},
   "outputs": [
    {
     "ename": "ValueError",
     "evalue": "Input 0 of layer \"conv2d\" is incompatible with the layer: expected min_ndim=4, found ndim=2. Full shape received: (None, 6100)",
     "output_type": "error",
     "traceback": [
      "\u001b[0;31m---------------------------------------------------------------------------\u001b[0m",
      "\u001b[0;31mValueError\u001b[0m                                Traceback (most recent call last)",
      "Cell \u001b[0;32mIn[17], line 3\u001b[0m\n\u001b[1;32m      1\u001b[0m clear_session()\n\u001b[1;32m      2\u001b[0m \u001b[39m#model.add(Conv2D(32, kernel_size=4, strides=1,activation='relu', input_shape=(IMG_WIDTH, IMG_HEIGHT, 1)))\u001b[39;00m\n\u001b[0;32m----> 3\u001b[0m model2\u001b[39m=\u001b[39m(Conv2D(\u001b[39m32\u001b[39;49m, kernel_size\u001b[39m=\u001b[39;49m\u001b[39m4\u001b[39;49m, strides\u001b[39m=\u001b[39;49m\u001b[39m2\u001b[39;49m,activation\u001b[39m=\u001b[39;49m\u001b[39m'\u001b[39;49m\u001b[39mrelu\u001b[39;49m\u001b[39m'\u001b[39;49m))(model2)\n\u001b[1;32m      4\u001b[0m model2\u001b[39m=\u001b[39m(MaxPooling2D(pool_size\u001b[39m=\u001b[39m\u001b[39m2\u001b[39m))(model2)\n\u001b[1;32m      5\u001b[0m model2\u001b[39m=\u001b[39m(Conv2D(\u001b[39m64\u001b[39m, kernel_size\u001b[39m=\u001b[39m\u001b[39m4\u001b[39m, strides\u001b[39m=\u001b[39m\u001b[39m1\u001b[39m,activation\u001b[39m=\u001b[39m\u001b[39m'\u001b[39m\u001b[39mrelu\u001b[39m\u001b[39m'\u001b[39m))(model2)\n",
      "File \u001b[0;32m~/.local/lib/python3.8/site-packages/keras/utils/traceback_utils.py:70\u001b[0m, in \u001b[0;36mfilter_traceback.<locals>.error_handler\u001b[0;34m(*args, **kwargs)\u001b[0m\n\u001b[1;32m     67\u001b[0m     filtered_tb \u001b[39m=\u001b[39m _process_traceback_frames(e\u001b[39m.\u001b[39m__traceback__)\n\u001b[1;32m     68\u001b[0m     \u001b[39m# To get the full stack trace, call:\u001b[39;00m\n\u001b[1;32m     69\u001b[0m     \u001b[39m# `tf.debugging.disable_traceback_filtering()`\u001b[39;00m\n\u001b[0;32m---> 70\u001b[0m     \u001b[39mraise\u001b[39;00m e\u001b[39m.\u001b[39mwith_traceback(filtered_tb) \u001b[39mfrom\u001b[39;00m \u001b[39mNone\u001b[39m\n\u001b[1;32m     71\u001b[0m \u001b[39mfinally\u001b[39;00m:\n\u001b[1;32m     72\u001b[0m     \u001b[39mdel\u001b[39;00m filtered_tb\n",
      "File \u001b[0;32m~/.local/lib/python3.8/site-packages/keras/engine/input_spec.py:250\u001b[0m, in \u001b[0;36massert_input_compatibility\u001b[0;34m(input_spec, inputs, layer_name)\u001b[0m\n\u001b[1;32m    248\u001b[0m     ndim \u001b[39m=\u001b[39m x\u001b[39m.\u001b[39mshape\u001b[39m.\u001b[39mrank\n\u001b[1;32m    249\u001b[0m     \u001b[39mif\u001b[39;00m ndim \u001b[39mis\u001b[39;00m \u001b[39mnot\u001b[39;00m \u001b[39mNone\u001b[39;00m \u001b[39mand\u001b[39;00m ndim \u001b[39m<\u001b[39m spec\u001b[39m.\u001b[39mmin_ndim:\n\u001b[0;32m--> 250\u001b[0m         \u001b[39mraise\u001b[39;00m \u001b[39mValueError\u001b[39;00m(\n\u001b[1;32m    251\u001b[0m             \u001b[39mf\u001b[39m\u001b[39m'\u001b[39m\u001b[39mInput \u001b[39m\u001b[39m{\u001b[39;00minput_index\u001b[39m}\u001b[39;00m\u001b[39m of layer \u001b[39m\u001b[39m\"\u001b[39m\u001b[39m{\u001b[39;00mlayer_name\u001b[39m}\u001b[39;00m\u001b[39m\"\u001b[39m\u001b[39m \u001b[39m\u001b[39m'\u001b[39m\n\u001b[1;32m    252\u001b[0m             \u001b[39m\"\u001b[39m\u001b[39mis incompatible with the layer: \u001b[39m\u001b[39m\"\u001b[39m\n\u001b[1;32m    253\u001b[0m             \u001b[39mf\u001b[39m\u001b[39m\"\u001b[39m\u001b[39mexpected min_ndim=\u001b[39m\u001b[39m{\u001b[39;00mspec\u001b[39m.\u001b[39mmin_ndim\u001b[39m}\u001b[39;00m\u001b[39m, \u001b[39m\u001b[39m\"\u001b[39m\n\u001b[1;32m    254\u001b[0m             \u001b[39mf\u001b[39m\u001b[39m\"\u001b[39m\u001b[39mfound ndim=\u001b[39m\u001b[39m{\u001b[39;00mndim\u001b[39m}\u001b[39;00m\u001b[39m. \u001b[39m\u001b[39m\"\u001b[39m\n\u001b[1;32m    255\u001b[0m             \u001b[39mf\u001b[39m\u001b[39m\"\u001b[39m\u001b[39mFull shape received: \u001b[39m\u001b[39m{\u001b[39;00m\u001b[39mtuple\u001b[39m(shape)\u001b[39m}\u001b[39;00m\u001b[39m\"\u001b[39m\n\u001b[1;32m    256\u001b[0m         )\n\u001b[1;32m    257\u001b[0m \u001b[39m# Check dtype.\u001b[39;00m\n\u001b[1;32m    258\u001b[0m \u001b[39mif\u001b[39;00m spec\u001b[39m.\u001b[39mdtype \u001b[39mis\u001b[39;00m \u001b[39mnot\u001b[39;00m \u001b[39mNone\u001b[39;00m:\n",
      "\u001b[0;31mValueError\u001b[0m: Input 0 of layer \"conv2d\" is incompatible with the layer: expected min_ndim=4, found ndim=2. Full shape received: (None, 6100)"
     ]
    }
   ],
   "source": [
    "clear_session()\n",
    "#model.add(Conv2D(32, kernel_size=4, strides=1,activation='relu', input_shape=(IMG_WIDTH, IMG_HEIGHT, 1)))\n",
    "model2=(Conv2D(32, kernel_size=4, strides=2,activation='relu'))(model2)\n",
    "model2=(MaxPooling2D(pool_size=2))(model2)\n",
    "model2=(Conv2D(64, kernel_size=4, strides=1,activation='relu'))(model2)\n",
    "model2=(MaxPooling2D(pool_size=2))(model2)\n",
    "model2=Dense(1000,activation=\"relu\")(model2)\n",
    "model2=BatchNormalization()(model2)\n",
    "model2=Dense(500,activation=\"relu\")(model2)\n",
    "mocel2=Dropout(0.2)(model2)\n",
    "model2=Flatten()(model2)\n",
    "model2=Dense(64,activation=\"relu\")(model2)\n",
    "x=Dense(4,activation=\"softmax\")(model2)\n"
   ]
  },
  {
   "cell_type": "code",
   "execution_count": null,
   "metadata": {},
   "outputs": [],
   "source": [
    "model = Model(inputs=[model,model11], outputs=x)"
   ]
  },
  {
   "cell_type": "code",
   "execution_count": null,
   "metadata": {},
   "outputs": [],
   "source": [
    "model.compile(optimizer='adam', loss='binary_crossentropy',metrics=[\"accuracy\"])"
   ]
  },
  {
   "cell_type": "code",
   "execution_count": null,
   "metadata": {},
   "outputs": [
    {
     "name": "stdout",
     "output_type": "stream",
     "text": [
      "Model: \"model\"\n",
      "__________________________________________________________________________________________________\n",
      " Layer (type)                   Output Shape         Param #     Connected to                     \n",
      "==================================================================================================\n",
      " input_1 (InputLayer)           [(None, 100)]        0           []                               \n",
      "                                                                                                  \n",
      " input_2 (InputLayer)           [(None, 6000)]       0           []                               \n",
      "                                                                                                  \n",
      " concatenate (Concatenate)      (None, 6100)         0           ['input_1[0][0]',                \n",
      "                                                                  'input_2[0][0]']                \n",
      "                                                                                                  \n",
      " dense (Dense)                  (None, 1000)         6101000     ['concatenate[1][0]']            \n",
      "                                                                                                  \n",
      " batch_normalization (BatchNorm  (None, 1000)        4000        ['dense[1][0]']                  \n",
      " alization)                                                                                       \n",
      "                                                                                                  \n",
      " dense_1 (Dense)                (None, 500)          500500      ['batch_normalization[1][0]']    \n",
      "                                                                                                  \n",
      " flatten (Flatten)              (None, 500)          0           ['dense_1[1][0]']                \n",
      "                                                                                                  \n",
      " dense_2 (Dense)                (None, 64)           32064       ['flatten[1][0]']                \n",
      "                                                                                                  \n",
      " dense_3 (Dense)                (None, 4)            260         ['dense_2[1][0]']                \n",
      "                                                                                                  \n",
      "==================================================================================================\n",
      "Total params: 6,637,824\n",
      "Trainable params: 6,635,824\n",
      "Non-trainable params: 2,000\n",
      "__________________________________________________________________________________________________\n"
     ]
    }
   ],
   "source": [
    "model.summary()"
   ]
  },
  {
   "cell_type": "code",
   "execution_count": null,
   "metadata": {},
   "outputs": [
    {
     "name": "stdout",
     "output_type": "stream",
     "text": [
      "Epoch 1/100\n",
      "21/21 [==============================] - 2s 91ms/step - loss: 0.5841 - accuracy: 0.3043\n",
      "Epoch 2/100\n",
      "21/21 [==============================] - 2s 91ms/step - loss: 0.5779 - accuracy: 0.3118\n",
      "Epoch 3/100\n",
      "21/21 [==============================] - 2s 88ms/step - loss: 0.5732 - accuracy: 0.3388\n",
      "Epoch 4/100\n",
      "21/21 [==============================] - 2s 95ms/step - loss: 0.5551 - accuracy: 0.3523\n",
      "Epoch 5/100\n",
      "21/21 [==============================] - 2s 88ms/step - loss: 0.5468 - accuracy: 0.3778\n",
      "Epoch 6/100\n",
      "21/21 [==============================] - 2s 90ms/step - loss: 0.5263 - accuracy: 0.3943\n",
      "Epoch 7/100\n",
      "21/21 [==============================] - 2s 103ms/step - loss: 0.5442 - accuracy: 0.3688\n",
      "Epoch 8/100\n",
      "21/21 [==============================] - 2s 95ms/step - loss: 0.5243 - accuracy: 0.3898\n",
      "Epoch 9/100\n",
      "21/21 [==============================] - 2s 106ms/step - loss: 0.4993 - accuracy: 0.4768\n",
      "Epoch 10/100\n",
      "21/21 [==============================] - 2s 97ms/step - loss: 0.5034 - accuracy: 0.4753\n",
      "Epoch 11/100\n",
      "21/21 [==============================] - 2s 95ms/step - loss: 0.4906 - accuracy: 0.4558\n",
      "Epoch 12/100\n",
      "21/21 [==============================] - 2s 93ms/step - loss: 0.4759 - accuracy: 0.5262\n",
      "Epoch 13/100\n",
      "21/21 [==============================] - 2s 94ms/step - loss: 0.4833 - accuracy: 0.4828\n",
      "Epoch 14/100\n",
      "21/21 [==============================] - 2s 88ms/step - loss: 0.4555 - accuracy: 0.5532\n",
      "Epoch 15/100\n",
      "21/21 [==============================] - 2s 88ms/step - loss: 0.4478 - accuracy: 0.5352\n",
      "Epoch 16/100\n",
      "21/21 [==============================] - 2s 108ms/step - loss: 0.4432 - accuracy: 0.5472\n",
      "Epoch 17/100\n",
      "21/21 [==============================] - 2s 97ms/step - loss: 0.4379 - accuracy: 0.5502\n",
      "Epoch 18/100\n",
      "21/21 [==============================] - 2s 99ms/step - loss: 0.4509 - accuracy: 0.5442\n",
      "Epoch 19/100\n",
      "21/21 [==============================] - 2s 99ms/step - loss: 0.4329 - accuracy: 0.5907\n",
      "Epoch 20/100\n",
      "21/21 [==============================] - 2s 95ms/step - loss: 0.4404 - accuracy: 0.5622\n",
      "Epoch 21/100\n",
      "21/21 [==============================] - 2s 104ms/step - loss: 0.4308 - accuracy: 0.5607\n",
      "Epoch 22/100\n",
      "21/21 [==============================] - 2s 105ms/step - loss: 0.4367 - accuracy: 0.5712\n",
      "Epoch 23/100\n",
      "21/21 [==============================] - 2s 99ms/step - loss: 0.4465 - accuracy: 0.5637\n",
      "Epoch 24/100\n",
      "21/21 [==============================] - 2s 93ms/step - loss: 0.4437 - accuracy: 0.5172\n",
      "Epoch 25/100\n",
      "21/21 [==============================] - 2s 92ms/step - loss: 0.4190 - accuracy: 0.5952\n",
      "Epoch 26/100\n",
      "21/21 [==============================] - 2s 91ms/step - loss: 0.4044 - accuracy: 0.5967\n",
      "Epoch 27/100\n",
      "21/21 [==============================] - 2s 97ms/step - loss: 0.4161 - accuracy: 0.6267\n",
      "Epoch 28/100\n",
      "21/21 [==============================] - 2s 93ms/step - loss: 0.4007 - accuracy: 0.6117\n",
      "Epoch 29/100\n",
      "21/21 [==============================] - 2s 93ms/step - loss: 0.3830 - accuracy: 0.6477\n",
      "Epoch 30/100\n",
      "21/21 [==============================] - 2s 96ms/step - loss: 0.3867 - accuracy: 0.6282\n",
      "Epoch 31/100\n",
      "21/21 [==============================] - 2s 91ms/step - loss: 0.4308 - accuracy: 0.5892\n",
      "Epoch 32/100\n",
      "21/21 [==============================] - 2s 96ms/step - loss: 0.4076 - accuracy: 0.6132\n",
      "Epoch 33/100\n",
      "21/21 [==============================] - 2s 91ms/step - loss: 0.4078 - accuracy: 0.6207\n",
      "Epoch 34/100\n",
      "21/21 [==============================] - 2s 93ms/step - loss: 0.4312 - accuracy: 0.6042\n",
      "Epoch 35/100\n",
      "21/21 [==============================] - 2s 94ms/step - loss: 0.4171 - accuracy: 0.5967\n",
      "Epoch 36/100\n",
      "21/21 [==============================] - 2s 93ms/step - loss: 0.4158 - accuracy: 0.6072\n",
      "Epoch 37/100\n",
      "21/21 [==============================] - 2s 94ms/step - loss: 0.4458 - accuracy: 0.5442\n",
      "Epoch 38/100\n",
      "21/21 [==============================] - 2s 96ms/step - loss: 0.4437 - accuracy: 0.5757\n",
      "Epoch 39/100\n",
      "21/21 [==============================] - 2s 96ms/step - loss: 0.4355 - accuracy: 0.5817\n",
      "Epoch 40/100\n",
      "21/21 [==============================] - 2s 103ms/step - loss: 0.4330 - accuracy: 0.5757\n",
      "Epoch 41/100\n",
      "21/21 [==============================] - 2s 101ms/step - loss: 0.4178 - accuracy: 0.5967\n",
      "Epoch 42/100\n",
      "21/21 [==============================] - 2s 99ms/step - loss: 0.3563 - accuracy: 0.6612\n",
      "Epoch 43/100\n",
      "21/21 [==============================] - 2s 94ms/step - loss: 0.3289 - accuracy: 0.7076\n",
      "Epoch 44/100\n",
      "21/21 [==============================] - 2s 88ms/step - loss: 0.3968 - accuracy: 0.5832\n",
      "Epoch 45/100\n",
      "21/21 [==============================] - 2s 87ms/step - loss: 0.4095 - accuracy: 0.6087\n",
      "Epoch 46/100\n",
      "21/21 [==============================] - 2s 97ms/step - loss: 0.4028 - accuracy: 0.5937\n",
      "Epoch 47/100\n",
      "21/21 [==============================] - 2s 95ms/step - loss: 0.3797 - accuracy: 0.6477\n",
      "Epoch 48/100\n",
      "21/21 [==============================] - 2s 110ms/step - loss: 0.4241 - accuracy: 0.5502\n",
      "Epoch 49/100\n",
      "21/21 [==============================] - 2s 116ms/step - loss: 0.4485 - accuracy: 0.4978\n",
      "Epoch 50/100\n",
      "21/21 [==============================] - 2s 115ms/step - loss: 0.4115 - accuracy: 0.5682\n",
      "Epoch 51/100\n",
      "21/21 [==============================] - 2s 118ms/step - loss: 0.4070 - accuracy: 0.5622\n",
      "Epoch 52/100\n",
      "21/21 [==============================] - 3s 124ms/step - loss: 0.4031 - accuracy: 0.5562\n",
      "Epoch 53/100\n",
      "21/21 [==============================] - 3s 123ms/step - loss: 0.3904 - accuracy: 0.5637\n",
      "Epoch 54/100\n",
      "21/21 [==============================] - 3s 124ms/step - loss: 0.3918 - accuracy: 0.5607\n",
      "Epoch 55/100\n",
      "21/21 [==============================] - 3s 129ms/step - loss: 0.3935 - accuracy: 0.5772\n",
      "Epoch 56/100\n",
      "21/21 [==============================] - 3s 126ms/step - loss: 0.3886 - accuracy: 0.6012\n",
      "Epoch 57/100\n",
      "21/21 [==============================] - 2s 117ms/step - loss: 0.3731 - accuracy: 0.5907\n",
      "Epoch 58/100\n",
      "21/21 [==============================] - 3s 127ms/step - loss: 0.3747 - accuracy: 0.6027\n",
      "Epoch 59/100\n",
      "21/21 [==============================] - 2s 113ms/step - loss: 0.3661 - accuracy: 0.5922\n",
      "Epoch 60/100\n",
      "21/21 [==============================] - 2s 113ms/step - loss: 0.3445 - accuracy: 0.6387\n",
      "Epoch 61/100\n",
      "21/21 [==============================] - 2s 119ms/step - loss: 0.3443 - accuracy: 0.6387\n",
      "Epoch 62/100\n",
      "21/21 [==============================] - 2s 118ms/step - loss: 0.3396 - accuracy: 0.6522\n",
      "Epoch 63/100\n",
      "21/21 [==============================] - 3s 121ms/step - loss: 0.3420 - accuracy: 0.6597\n",
      "Epoch 64/100\n",
      "21/21 [==============================] - 2s 116ms/step - loss: 0.3260 - accuracy: 0.6642\n",
      "Epoch 65/100\n",
      "21/21 [==============================] - 3s 134ms/step - loss: 0.3319 - accuracy: 0.6552\n",
      "Epoch 66/100\n",
      "21/21 [==============================] - 3s 124ms/step - loss: 0.3328 - accuracy: 0.6477\n",
      "Epoch 67/100\n",
      "21/21 [==============================] - 3s 122ms/step - loss: 0.3184 - accuracy: 0.6657\n",
      "Epoch 68/100\n",
      "21/21 [==============================] - 3s 123ms/step - loss: 0.3140 - accuracy: 0.6702\n",
      "Epoch 69/100\n",
      "21/21 [==============================] - 3s 130ms/step - loss: 0.3069 - accuracy: 0.6762\n",
      "Epoch 70/100\n",
      "21/21 [==============================] - 3s 130ms/step - loss: 0.2997 - accuracy: 0.7031\n",
      "Epoch 71/100\n",
      "21/21 [==============================] - 3s 131ms/step - loss: 0.3487 - accuracy: 0.6477\n",
      "Epoch 72/100\n",
      "18/21 [========================>.....] - ETA: 0s - loss: 0.3104 - accuracy: 0.6753"
     ]
    }
   ],
   "source": [
    "#gru\n",
    "model.fit([x_train,x1],y_train,verbose=1,batch_size=32,epochs=100)"
   ]
  }
 ],
 "metadata": {
  "kernelspec": {
   "display_name": "Python 3",
   "language": "python",
   "name": "python3"
  },
  "language_info": {
   "codemirror_mode": {
    "name": "ipython",
    "version": 3
   },
   "file_extension": ".py",
   "mimetype": "text/x-python",
   "name": "python",
   "nbconvert_exporter": "python",
   "pygments_lexer": "ipython3",
   "version": "3.8.10"
  },
  "orig_nbformat": 4
 },
 "nbformat": 4,
 "nbformat_minor": 2
}
